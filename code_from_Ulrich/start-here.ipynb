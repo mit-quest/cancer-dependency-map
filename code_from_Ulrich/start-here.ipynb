{
 "cells": [
  {
   "cell_type": "markdown",
   "metadata": {},
   "source": [
    "# Automated data analysis for RNA sequencing data\n",
    "\n",
    "For this demo, we will provide two Jupyter notebooks:\n",
    "* [Data Pre-processing](work/data-preprocessing.ipynb). This notebook demonstrates how to download and transform RNA sequencing data into an analysis-ready dataframe.\n",
    "* [Probabilistic program synthesis and hypothesis testing](work/RNAseq-synthesis-and-hypothesis-testing.ipynb). This notebook provides a tutorial on probabilistic program synthesis for automated data modeling as well as a demo of hypothesis testing in this context.\n"
   ]
  }
 ],
 "metadata": {
  "kernelspec": {
   "display_name": "Python 2",
   "language": "python",
   "name": "python2"
  },
  "language_info": {
   "codemirror_mode": {
    "name": "ipython",
    "version": 2
   },
   "file_extension": ".py",
   "mimetype": "text/x-python",
   "name": "python",
   "nbconvert_exporter": "python",
   "pygments_lexer": "ipython2",
   "version": "2.7.11"
  }
 },
 "nbformat": 4,
 "nbformat_minor": 2
}
